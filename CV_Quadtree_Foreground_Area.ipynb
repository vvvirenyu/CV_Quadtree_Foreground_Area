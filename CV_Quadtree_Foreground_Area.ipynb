{
 "cells": [
  {
   "cell_type": "code",
   "execution_count": 19,
   "metadata": {},
   "outputs": [
    {
     "name": "stdout",
     "output_type": "stream",
     "text": [
      "area 0\n",
      "all values in g 0 b n 8 h 1\n",
      "area 0\n",
      "all values in b 0 n 8 h 1\n",
      "idhar\n",
      "area 16.0\n",
      "here\n",
      "area 16.0\n",
      "all values in g 16.0 b n 8 h 2\n",
      "area 16.0\n",
      "all values in b 16.0 n 8 h 2\n",
      "idhar\n",
      "area 20.0\n",
      "all values in b 20.0 n 8 h 2\n",
      "idhar\n",
      "area 24.0\n",
      "here\n",
      "area 24.0\n",
      "here\n",
      "area 24.0\n",
      "all values in b 24.0 n 8 h 1\n",
      "idhar\n",
      "Sum of heights of all Nodes = 40.0\n"
     ]
    }
   ],
   "source": [
    "\n",
    "\n",
    "class newNode: \n",
    "    def __init__(self, data): \n",
    "        self.data = data;\n",
    "        self.one = None;\n",
    "        self.two = None;\n",
    "        self.three = None;\n",
    "        self.four = None;\n",
    "              \n",
    "def subtree( root,h,n):\n",
    "    global area\n",
    "    print (\"area\", area)\n",
    "    if root.data == None or root.data == 'W':\n",
    "        print (\"here\")\n",
    "        return area\n",
    "    if(root.data == 'B'):\n",
    "        print (\"all values in b\", area, \"n\", n, \"h\", h)\n",
    "\n",
    "        area = area + carea(area, n, h)\n",
    "\n",
    "    elif(root.data == 'G'):\n",
    "        h = h+1;\n",
    "        print (\"all values in g\", area, \"b\", \"n\", n, \"h\", h)\n",
    "\n",
    "        subtree(root.one,h,n)\n",
    "        subtree(root.two,h,n)\n",
    "        subtree(root.three,h,n)\n",
    "        subtree(root.four,h,n)\n",
    "    return area\n",
    "\n",
    "def carea(area, n, h):\n",
    "    print (\"idhar\")\n",
    "    return  (  n**2 / 2**(h*2))\n",
    "        \n",
    "\n",
    "root = newNode('G')  \n",
    "  \n",
    "root.one = newNode('B')  \n",
    "root.two = newNode('W') \n",
    "root.three = newNode('G')  \n",
    "root.four = newNode('B')  \n",
    "\n",
    "root.three.one = newNode('B')  \n",
    "root.three.two = newNode('B')  \n",
    "root.three.three = newNode('W')  \n",
    "root.three.four = newNode('W') \n",
    "h=0\n",
    "n=8\n",
    "area = 0\n",
    "print(\"Sum of heights of all Nodes =\", \n",
    "                 subtree(root,h,n)) \n",
    "  "
   ]
  },
  {
   "cell_type": "code",
   "execution_count": null,
   "metadata": {},
   "outputs": [],
   "source": []
  },
  {
   "cell_type": "code",
   "execution_count": null,
   "metadata": {},
   "outputs": [],
   "source": []
  }
 ],
 "metadata": {
  "kernelspec": {
   "display_name": "Python 3",
   "language": "python",
   "name": "python3"
  },
  "language_info": {
   "codemirror_mode": {
    "name": "ipython",
    "version": 3
   },
   "file_extension": ".py",
   "mimetype": "text/x-python",
   "name": "python",
   "nbconvert_exporter": "python",
   "pygments_lexer": "ipython3",
   "version": "3.7.1"
  }
 },
 "nbformat": 4,
 "nbformat_minor": 2
}
